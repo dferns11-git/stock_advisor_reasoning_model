{
  "nbformat": 4,
  "nbformat_minor": 0,
  "metadata": {
    "colab": {
      "provenance": []
    },
    "kernelspec": {
      "name": "python3",
      "display_name": "Python 3"
    },
    "language_info": {
      "name": "python"
    }
  },
  "cells": [
    {
      "cell_type": "markdown",
      "source": [
        "Libaries"
      ],
      "metadata": {
        "id": "9_s2MnAP0pMy"
      }
    },
    {
      "cell_type": "code",
      "source": [
        "!pip install python-dotenv gradio\n",
        "import os\n",
        "import dotenv\n",
        "from dotenv import load_dotenv\n",
        "from openai import OpenAI\n",
        "import yfinance as yf\n",
        "import matplotlib.pyplot as plt\n",
        "import pandas as pd\n",
        "import plotly.graph_objects as go\n",
        "import gradio as gr\n",
        "import json\n",
        "import math"
      ],
      "metadata": {
        "colab": {
          "base_uri": "https://localhost:8080/"
        },
        "collapsed": true,
        "id": "Itm8jotv0rFy",
        "outputId": "48fa2d3d-2d81-4abf-ec13-935959a9ad48"
      },
      "execution_count": 7,
      "outputs": [
        {
          "output_type": "stream",
          "name": "stdout",
          "text": [
            "Requirement already satisfied: python-dotenv in /usr/local/lib/python3.11/dist-packages (1.0.1)\n",
            "Requirement already satisfied: gradio in /usr/local/lib/python3.11/dist-packages (5.15.0)\n",
            "Requirement already satisfied: aiofiles<24.0,>=22.0 in /usr/local/lib/python3.11/dist-packages (from gradio) (23.2.1)\n",
            "Requirement already satisfied: anyio<5.0,>=3.0 in /usr/local/lib/python3.11/dist-packages (from gradio) (3.7.1)\n",
            "Requirement already satisfied: fastapi<1.0,>=0.115.2 in /usr/local/lib/python3.11/dist-packages (from gradio) (0.115.8)\n",
            "Requirement already satisfied: ffmpy in /usr/local/lib/python3.11/dist-packages (from gradio) (0.5.0)\n",
            "Requirement already satisfied: gradio-client==1.7.0 in /usr/local/lib/python3.11/dist-packages (from gradio) (1.7.0)\n",
            "Requirement already satisfied: httpx>=0.24.1 in /usr/local/lib/python3.11/dist-packages (from gradio) (0.28.1)\n",
            "Requirement already satisfied: huggingface-hub>=0.28.1 in /usr/local/lib/python3.11/dist-packages (from gradio) (0.28.1)\n",
            "Requirement already satisfied: jinja2<4.0 in /usr/local/lib/python3.11/dist-packages (from gradio) (3.1.5)\n",
            "Requirement already satisfied: markupsafe~=2.0 in /usr/local/lib/python3.11/dist-packages (from gradio) (2.1.5)\n",
            "Requirement already satisfied: numpy<3.0,>=1.0 in /usr/local/lib/python3.11/dist-packages (from gradio) (1.26.4)\n",
            "Requirement already satisfied: orjson~=3.0 in /usr/local/lib/python3.11/dist-packages (from gradio) (3.10.15)\n",
            "Requirement already satisfied: packaging in /usr/local/lib/python3.11/dist-packages (from gradio) (24.2)\n",
            "Requirement already satisfied: pandas<3.0,>=1.0 in /usr/local/lib/python3.11/dist-packages (from gradio) (2.2.2)\n",
            "Requirement already satisfied: pillow<12.0,>=8.0 in /usr/local/lib/python3.11/dist-packages (from gradio) (11.1.0)\n",
            "Requirement already satisfied: pydantic>=2.0 in /usr/local/lib/python3.11/dist-packages (from gradio) (2.10.6)\n",
            "Requirement already satisfied: pydub in /usr/local/lib/python3.11/dist-packages (from gradio) (0.25.1)\n",
            "Requirement already satisfied: python-multipart>=0.0.18 in /usr/local/lib/python3.11/dist-packages (from gradio) (0.0.20)\n",
            "Requirement already satisfied: pyyaml<7.0,>=5.0 in /usr/local/lib/python3.11/dist-packages (from gradio) (6.0.2)\n",
            "Requirement already satisfied: ruff>=0.9.3 in /usr/local/lib/python3.11/dist-packages (from gradio) (0.9.5)\n",
            "Requirement already satisfied: safehttpx<0.2.0,>=0.1.6 in /usr/local/lib/python3.11/dist-packages (from gradio) (0.1.6)\n",
            "Requirement already satisfied: semantic-version~=2.0 in /usr/local/lib/python3.11/dist-packages (from gradio) (2.10.0)\n",
            "Requirement already satisfied: starlette<1.0,>=0.40.0 in /usr/local/lib/python3.11/dist-packages (from gradio) (0.45.3)\n",
            "Requirement already satisfied: tomlkit<0.14.0,>=0.12.0 in /usr/local/lib/python3.11/dist-packages (from gradio) (0.13.2)\n",
            "Requirement already satisfied: typer<1.0,>=0.12 in /usr/local/lib/python3.11/dist-packages (from gradio) (0.15.1)\n",
            "Requirement already satisfied: typing-extensions~=4.0 in /usr/local/lib/python3.11/dist-packages (from gradio) (4.12.2)\n",
            "Requirement already satisfied: uvicorn>=0.14.0 in /usr/local/lib/python3.11/dist-packages (from gradio) (0.34.0)\n",
            "Requirement already satisfied: fsspec in /usr/local/lib/python3.11/dist-packages (from gradio-client==1.7.0->gradio) (2024.10.0)\n",
            "Requirement already satisfied: websockets<15.0,>=10.0 in /usr/local/lib/python3.11/dist-packages (from gradio-client==1.7.0->gradio) (14.2)\n",
            "Requirement already satisfied: idna>=2.8 in /usr/local/lib/python3.11/dist-packages (from anyio<5.0,>=3.0->gradio) (3.10)\n",
            "Requirement already satisfied: sniffio>=1.1 in /usr/local/lib/python3.11/dist-packages (from anyio<5.0,>=3.0->gradio) (1.3.1)\n",
            "Requirement already satisfied: certifi in /usr/local/lib/python3.11/dist-packages (from httpx>=0.24.1->gradio) (2025.1.31)\n",
            "Requirement already satisfied: httpcore==1.* in /usr/local/lib/python3.11/dist-packages (from httpx>=0.24.1->gradio) (1.0.7)\n",
            "Requirement already satisfied: h11<0.15,>=0.13 in /usr/local/lib/python3.11/dist-packages (from httpcore==1.*->httpx>=0.24.1->gradio) (0.14.0)\n",
            "Requirement already satisfied: filelock in /usr/local/lib/python3.11/dist-packages (from huggingface-hub>=0.28.1->gradio) (3.17.0)\n",
            "Requirement already satisfied: requests in /usr/local/lib/python3.11/dist-packages (from huggingface-hub>=0.28.1->gradio) (2.32.3)\n",
            "Requirement already satisfied: tqdm>=4.42.1 in /usr/local/lib/python3.11/dist-packages (from huggingface-hub>=0.28.1->gradio) (4.67.1)\n",
            "Requirement already satisfied: python-dateutil>=2.8.2 in /usr/local/lib/python3.11/dist-packages (from pandas<3.0,>=1.0->gradio) (2.8.2)\n",
            "Requirement already satisfied: pytz>=2020.1 in /usr/local/lib/python3.11/dist-packages (from pandas<3.0,>=1.0->gradio) (2025.1)\n",
            "Requirement already satisfied: tzdata>=2022.7 in /usr/local/lib/python3.11/dist-packages (from pandas<3.0,>=1.0->gradio) (2025.1)\n",
            "Requirement already satisfied: annotated-types>=0.6.0 in /usr/local/lib/python3.11/dist-packages (from pydantic>=2.0->gradio) (0.7.0)\n",
            "Requirement already satisfied: pydantic-core==2.27.2 in /usr/local/lib/python3.11/dist-packages (from pydantic>=2.0->gradio) (2.27.2)\n",
            "Requirement already satisfied: click>=8.0.0 in /usr/local/lib/python3.11/dist-packages (from typer<1.0,>=0.12->gradio) (8.1.8)\n",
            "Requirement already satisfied: shellingham>=1.3.0 in /usr/local/lib/python3.11/dist-packages (from typer<1.0,>=0.12->gradio) (1.5.4)\n",
            "Requirement already satisfied: rich>=10.11.0 in /usr/local/lib/python3.11/dist-packages (from typer<1.0,>=0.12->gradio) (13.9.4)\n",
            "Requirement already satisfied: six>=1.5 in /usr/local/lib/python3.11/dist-packages (from python-dateutil>=2.8.2->pandas<3.0,>=1.0->gradio) (1.17.0)\n",
            "Requirement already satisfied: markdown-it-py>=2.2.0 in /usr/local/lib/python3.11/dist-packages (from rich>=10.11.0->typer<1.0,>=0.12->gradio) (3.0.0)\n",
            "Requirement already satisfied: pygments<3.0.0,>=2.13.0 in /usr/local/lib/python3.11/dist-packages (from rich>=10.11.0->typer<1.0,>=0.12->gradio) (2.18.0)\n",
            "Requirement already satisfied: charset-normalizer<4,>=2 in /usr/local/lib/python3.11/dist-packages (from requests->huggingface-hub>=0.28.1->gradio) (3.4.1)\n",
            "Requirement already satisfied: urllib3<3,>=1.21.1 in /usr/local/lib/python3.11/dist-packages (from requests->huggingface-hub>=0.28.1->gradio) (2.3.0)\n",
            "Requirement already satisfied: mdurl~=0.1 in /usr/local/lib/python3.11/dist-packages (from markdown-it-py>=2.2.0->rich>=10.11.0->typer<1.0,>=0.12->gradio) (0.1.2)\n"
          ]
        }
      ]
    },
    {
      "cell_type": "markdown",
      "source": [
        "Setting up API KEY access."
      ],
      "metadata": {
        "id": "tQA4xtZi0NVT"
      }
    },
    {
      "cell_type": "code",
      "execution_count": 2,
      "metadata": {
        "colab": {
          "base_uri": "https://localhost:8080/"
        },
        "id": "hjaXqb6o0Ana",
        "outputId": "a2876691-f557-46a3-9dfa-e72e1751374a"
      },
      "outputs": [
        {
          "output_type": "stream",
          "name": "stdout",
          "text": [
            "API Key loaded: True\n"
          ]
        }
      ],
      "source": [
        "# Load .env file\n",
        "load_dotenv(dotenv_path='/content/drive/MyDrive/github_projects/stock_price_reasoning_model/.env')\n",
        "API_KEY = os.getenv(\"OPENAI_API_KEY\")\n",
        "\n",
        "# Confirm that the API key has been loaded (print statement for testing)\n",
        "print(\"API Key loaded:\", bool(API_KEY))"
      ]
    },
    {
      "cell_type": "markdown",
      "source": [
        "Checking available models from API."
      ],
      "metadata": {
        "id": "zvUK4Nr_0iWl"
      }
    },
    {
      "cell_type": "code",
      "source": [
        "client = OpenAI(api_key=API_KEY)\n",
        "\n",
        "try:\n",
        "    models = client.models.list()\n",
        "    print(\"Available model names:\")\n",
        "    for model in models:\n",
        "        print(model.id)\n",
        "except Exception as e:\n",
        "    print(f\"Error fetching models: {str(e)}\")"
      ],
      "metadata": {
        "colab": {
          "base_uri": "https://localhost:8080/"
        },
        "collapsed": true,
        "id": "bAx2Gj2B0ntJ",
        "outputId": "39544c2a-7734-44c0-8737-abd2c2199753"
      },
      "execution_count": 3,
      "outputs": [
        {
          "output_type": "stream",
          "name": "stdout",
          "text": [
            "Available model names:\n",
            "gpt-4o-mini-audio-preview\n",
            "gpt-4o-mini-audio-preview-2024-12-17\n",
            "gpt-4o-mini-realtime-preview\n",
            "dall-e-2\n",
            "o1-mini-2024-09-12\n",
            "o1-preview-2024-09-12\n",
            "o1-mini\n",
            "o1-preview\n",
            "chatgpt-4o-latest\n",
            "whisper-1\n",
            "gpt-4-turbo\n",
            "gpt-4-turbo-preview\n",
            "gpt-4o-audio-preview\n",
            "gpt-4o-audio-preview-2024-10-01\n",
            "babbage-002\n",
            "omni-moderation-latest\n",
            "omni-moderation-2024-09-26\n",
            "tts-1-hd-1106\n",
            "gpt-4o-2024-05-13\n",
            "tts-1-hd\n",
            "dall-e-3\n",
            "gpt-4o-mini-2024-07-18\n",
            "gpt-4o-mini\n",
            "gpt-4o-2024-11-20\n",
            "gpt-4o-2024-08-06\n",
            "gpt-4-turbo-2024-04-09\n",
            "gpt-4o\n",
            "tts-1\n",
            "gpt-3.5-turbo-16k\n",
            "tts-1-1106\n",
            "davinci-002\n",
            "gpt-3.5-turbo-1106\n",
            "gpt-4o-mini-realtime-preview-2024-12-17\n",
            "gpt-3.5-turbo-instruct\n",
            "gpt-4o-realtime-preview-2024-10-01\n",
            "gpt-3.5-turbo-instruct-0914\n",
            "gpt-3.5-turbo-0125\n",
            "gpt-4o-audio-preview-2024-12-17\n",
            "gpt-4o-realtime-preview-2024-12-17\n",
            "gpt-3.5-turbo\n",
            "text-embedding-3-large\n",
            "gpt-4o-realtime-preview\n",
            "text-embedding-3-small\n",
            "gpt-4-0125-preview\n",
            "gpt-4\n",
            "text-embedding-ada-002\n",
            "gpt-4-1106-preview\n",
            "gpt-4-0613\n"
          ]
        }
      ]
    },
    {
      "cell_type": "markdown",
      "source": [
        "Displaying stock price and dividend amount."
      ],
      "metadata": {
        "id": "-N_XxFB404ST"
      }
    },
    {
      "cell_type": "code",
      "source": [
        "# Function to plot dividend payouts with stock close price\n",
        "def plot_dividends(ticker):\n",
        "    try:\n",
        "        # Fetch the ticker object\n",
        "        ticker_obj = yf.Ticker(ticker)\n",
        "\n",
        "        # Fetch dividend data\n",
        "        dividends = ticker_obj.dividends\n",
        "        if dividends.empty:\n",
        "            return \"No dividend data available for this stock.\"\n",
        "\n",
        "        # Fetch historical stock prices (ensuring it covers dividend dates)\n",
        "        stock_history = ticker_obj.history(start=dividends.index.min(), end=dividends.index.max())\n",
        "\n",
        "        # Align stock close prices with dividend dates (forward-fill missing prices)\n",
        "        close_prices = stock_history[\"Close\"].reindex(dividends.index, method=\"ffill\")\n",
        "\n",
        "        # Create a Plotly figure\n",
        "        fig = go.Figure()\n",
        "\n",
        "        # Add dividend payouts\n",
        "        fig.add_trace(go.Scatter(\n",
        "            x=dividends.index,\n",
        "            y=dividends,\n",
        "            mode='lines+markers',\n",
        "            name='Dividends ($)',\n",
        "            marker=dict(size=8, color='red', symbol='circle'),\n",
        "            hovertemplate=\"Date: %{x}<br>Dividend: $%{y:.2f}<br>Close Price: $%{customdata:.2f}\",\n",
        "            customdata=close_prices  # Ensures close price is shown on hover\n",
        "        ))\n",
        "\n",
        "        # Add stock close prices\n",
        "        fig.add_trace(go.Scatter(\n",
        "            x=close_prices.index,\n",
        "            y=close_prices,\n",
        "            mode='lines+markers',\n",
        "            name='Close Price ($)',\n",
        "            marker=dict(size=8, color='blue', symbol='square'),\n",
        "            hovertemplate=\"Date: %{x}<br>Dividend: $%{y:.2f}<br>Close Price: $%{customdata:.2f}\",\n",
        "            customdata=dividends  # Ensures dividend is shown on hover\n",
        "        ))\n",
        "\n",
        "        # Update layout\n",
        "        fig.update_layout(\n",
        "            title=f'{ticker} Dividend Payouts & Close Prices Over Time',\n",
        "            xaxis_title='Date',\n",
        "            yaxis_title='Amount ($)',\n",
        "            template='plotly_dark',\n",
        "            width=1200,\n",
        "            height=800,\n",
        "            yaxis=dict(dtick=5)  # Set tick spacing to 5\n",
        "        )\n",
        "\n",
        "        return fig\n",
        "\n",
        "    except Exception as e:\n",
        "        return f\"Error: {e}\"\n",
        "\n",
        "# Create a Gradio Interface\n",
        "gr_interface = gr.Blocks()\n",
        "\n",
        "with gr_interface:\n",
        "    gr.Markdown(\"# 📈 Dividend & Stock Price Plotter\")\n",
        "    gr.Markdown(\"Enter a ticker symbol to see dividend payouts over time alongside stock closing prices.\")\n",
        "\n",
        "    with gr.Row():\n",
        "        ticker_input = gr.Textbox(label=\"Enter Ticker Symbol\")\n",
        "        submit_btn = gr.Button(\"Generate Graph\")\n",
        "\n",
        "    plot_output = gr.Plot(label=\"Dividend Payouts & Close Prices\")\n",
        "\n",
        "    submit_btn.click(fn=plot_dividends, inputs=ticker_input, outputs=plot_output)\n",
        "\n",
        "# Launch the Gradio interface\n",
        "gr_interface.launch()"
      ],
      "metadata": {
        "colab": {
          "base_uri": "https://localhost:8080/",
          "height": 646
        },
        "collapsed": true,
        "id": "o0TEuNGc036C",
        "outputId": "6dd4ae3e-5ac9-4824-e077-9e24a06d3b37"
      },
      "execution_count": null,
      "outputs": [
        {
          "output_type": "stream",
          "name": "stdout",
          "text": [
            "Running Gradio in a Colab notebook requires sharing enabled. Automatically setting `share=True` (you can turn this off by setting `share=False` in `launch()` explicitly).\n",
            "\n",
            "Colab notebook detected. To show errors in colab notebook, set debug=True in launch()\n",
            "* Running on public URL: https://d5785f196c26f44b59.gradio.live\n",
            "\n",
            "This share link expires in 72 hours. For free permanent hosting and GPU upgrades, run `gradio deploy` from the terminal in the working directory to deploy to Hugging Face Spaces (https://huggingface.co/spaces)\n"
          ]
        },
        {
          "output_type": "display_data",
          "data": {
            "text/plain": [
              "<IPython.core.display.HTML object>"
            ],
            "text/html": [
              "<div><iframe src=\"https://d5785f196c26f44b59.gradio.live\" width=\"100%\" height=\"500\" allow=\"autoplay; camera; microphone; clipboard-read; clipboard-write;\" frameborder=\"0\" allowfullscreen></iframe></div>"
            ]
          },
          "metadata": {}
        },
        {
          "output_type": "execute_result",
          "data": {
            "text/plain": []
          },
          "metadata": {},
          "execution_count": 22
        }
      ]
    },
    {
      "cell_type": "code",
      "source": [
        "import yfinance as yf\n",
        "\n",
        "# Define the ticker\n",
        "ticker = \"ENB.TO\"\n",
        "\n",
        "# Fetch the ticker object\n",
        "ticker_obj = yf.Ticker(ticker)\n",
        "\n",
        "# Fetch the dividend data (dates and amounts)\n",
        "dividends = ticker_obj.dividends\n",
        "\n",
        "# Print the dividends and their respective dates\n",
        "print(\"Dividends Paid Out (Date and Amount):\")\n",
        "print(dividends)\n",
        "\n",
        "# Print the data types of the columns\n",
        "print(\"\\nData Types of Columns:\")\n",
        "print(dividends.dtypes)\n",
        "\n",
        "print(ticker_obj.info)"
      ],
      "metadata": {
        "colab": {
          "base_uri": "https://localhost:8080/"
        },
        "id": "8kGWsM6DFDA9",
        "outputId": "08f9d3d7-5931-48cb-951d-842aac749212"
      },
      "execution_count": null,
      "outputs": [
        {
          "output_type": "stream",
          "name": "stdout",
          "text": [
            "Dividends Paid Out (Date and Amount):\n",
            "Date\n",
            "1995-02-07 00:00:00-05:00    0.0625\n",
            "1995-05-23 00:00:00-04:00    0.0625\n",
            "1995-08-11 00:00:00-04:00    0.0625\n",
            "1995-11-17 00:00:00-05:00    0.0625\n",
            "1996-02-14 00:00:00-05:00    0.0625\n",
            "                              ...  \n",
            "2023-11-14 00:00:00-05:00    0.8880\n",
            "2024-02-14 00:00:00-05:00    0.9150\n",
            "2024-05-14 00:00:00-04:00    0.9150\n",
            "2024-08-15 00:00:00-04:00    0.9150\n",
            "2024-11-15 00:00:00-05:00    0.9150\n",
            "Name: Dividends, Length: 120, dtype: float64\n",
            "\n",
            "Data Types of Columns:\n",
            "float64\n",
            "{'address1': '200, Fifth Avenue Place', 'address2': '425 - 1st Street S.W.', 'city': 'Calgary', 'state': 'AB', 'zip': 'T2P 3L8', 'country': 'Canada', 'phone': '403-231-3900', 'fax': '403-231-3920', 'website': 'https://www.enbridge.com', 'industry': 'Oil & Gas Midstream', 'industryKey': 'oil-gas-midstream', 'industryDisp': 'Oil & Gas Midstream', 'sector': 'Energy', 'sectorKey': 'energy', 'sectorDisp': 'Energy', 'longBusinessSummary': 'Enbridge Inc., together with its subsidiaries, operates as an energy infrastructure company. The company operates through five segments: Liquids Pipelines, Gas Transmission and Midstream, Gas Distribution and Storage, Renewable Power Generation, and Energy Services. The Liquids Pipelines segment operates pipelines and related terminals to transport various grades of crude oil and other liquid hydrocarbons in Canada and the United States. The Gas Transmission and Midstream segment invests in natural gas pipelines and gathering and processing facilities in Canada and the United States. The Gas Distribution and Storage segment is involved in natural gas utility operations serving residential, commercial, and industrial customers in Ontario, as well as natural gas distribution activities in Quebec. The Renewable Power Generation segment operates power generating assets, such as wind, solar, geothermal, waste heat recovery, and transmission assets in North America. The Energy Services segment provides physical commodity marketing and logistical services to refiners, producers, and other customers in Canada and the United States. The company was formerly known as IPL Energy Inc. and changed its name to Enbridge Inc. in October 1998. Enbridge Inc. was founded in 1949 and is headquartered in Calgary, Canada.', 'fullTimeEmployees': 11500, 'companyOfficers': [{'maxAge': 1, 'name': 'Mr. Gregory Lorne Ebel', 'age': 60, 'title': 'President, CEO & Director', 'yearBorn': 1964, 'fiscalYear': 2023, 'totalPay': 6440833, 'exercisedValue': 0, 'unexercisedValue': 0}, {'maxAge': 1, 'name': 'Mr. Patrick Robert Murray', 'age': 48, 'title': 'Executive VP & CFO', 'yearBorn': 1976, 'fiscalYear': 2023, 'totalPay': 1470555, 'exercisedValue': 0, 'unexercisedValue': 0}, {'maxAge': 1, 'name': 'Mr. Colin Kenneth Gruending', 'age': 53, 'title': 'Executive VP & President of Liquids Pipelines', 'yearBorn': 1971, 'fiscalYear': 2023, 'totalPay': 2393270, 'exercisedValue': 0, 'unexercisedValue': 0}, {'maxAge': 1, 'name': 'Ms. Cynthia Lynn Hansen', 'age': 59, 'title': 'Executive VP and President of Gas Transmission & Midstream', 'yearBorn': 1965, 'fiscalYear': 2023, 'totalPay': 2310159, 'exercisedValue': 0, 'unexercisedValue': 0}, {'maxAge': 1, 'name': 'Mr. Matthew A. Akman', 'age': 55, 'title': 'Executive VP of Corporate Strategy & President of Power', 'yearBorn': 1969, 'fiscalYear': 2023, 'totalPay': 1275687, 'exercisedValue': 0, 'unexercisedValue': 0}, {'maxAge': 1, 'name': 'Mr. David Wayne Bryson', 'age': 57, 'title': 'Senior Vice President of Operations, Engineering & Liquids Pipelines', 'yearBorn': 1967, 'fiscalYear': 2023, 'exercisedValue': 0, 'unexercisedValue': 0}, {'maxAge': 1, 'name': 'Ms. Melissa M. LaForge', 'age': 38, 'title': 'Senior VP & Chief Accounting Officer', 'yearBorn': 1986, 'fiscalYear': 2023, 'exercisedValue': 0, 'unexercisedValue': 0}, {'maxAge': 1, 'name': 'Mr. Bhushan N. Ivaturi', 'title': 'Senior VP & Chief Information Officer', 'fiscalYear': 2023, 'exercisedValue': 0, 'unexercisedValue': 0}, {'maxAge': 1, 'name': 'Ms. Laura J. Buss Sayavedra', 'age': 57, 'title': 'Senior VP of Safety, Projects & Chief Administrative Officer', 'yearBorn': 1967, 'fiscalYear': 2023, 'exercisedValue': 0, 'unexercisedValue': 0}, {'maxAge': 1, 'name': 'Ms. Rebecca  Morley CFA', 'age': 44, 'title': 'Director of Investor Relations', 'yearBorn': 1980, 'fiscalYear': 2023, 'exercisedValue': 0, 'unexercisedValue': 0}], 'auditRisk': 2, 'boardRisk': 1, 'compensationRisk': 9, 'shareHolderRightsRisk': 7, 'overallRisk': 6, 'governanceEpochDate': 1738368000, 'compensationAsOfEpochDate': 1703980800, 'irWebsite': 'http://www.enbridge.com/InvestorRelations.aspx', 'maxAge': 86400, 'priceHint': 2, 'previousClose': 63.41, 'open': 63.25, 'dayLow': 62.56, 'dayHigh': 63.63, 'regularMarketPreviousClose': 63.41, 'regularMarketOpen': 63.25, 'regularMarketDayLow': 62.56, 'regularMarketDayHigh': 63.63, 'dividendRate': 3.77, 'dividendYield': 0.0594, 'exDividendDate': 1739491200, 'payoutRatio': 1.2355, 'fiveYearAvgDividendYield': 6.91, 'beta': 0.91, 'trailingPE': 21.60204, 'forwardPE': 20.599863, 'volume': 15884295, 'regularMarketVolume': 15884295, 'averageVolume': 9326659, 'averageVolume10days': 11007300, 'averageDailyVolume10Day': 11007300, 'bid': 63.57, 'ask': 63.58, 'marketCap': 138322231296, 'fiftyTwoWeekLow': 45.05, 'fiftyTwoWeekHigh': 65.62, 'priceToSalesTrailing12Months': 2.8488328, 'fiftyDayAverage': 61.899, 'twoHundredDayAverage': 55.16055, 'trailingAnnualDividendRate': 3.625, 'trailingAnnualDividendYield': 0.057167638, 'currency': 'CAD', 'enterpriseValue': 241810997248, 'profitMargins': 0.13725, 'floatShares': 2175124852, 'sharesOutstanding': 2177959936, 'sharesShort': 25779560, 'sharesShortPriorMonth': 44502693, 'sharesShortPreviousMonthDate': 1735603200, 'dateShortInterest': 1738281600, 'sharesPercentSharesOut': 0.0117999995, 'heldPercentInsiders': 0.0029499999, 'heldPercentInstitutions': 0.55082, 'shortRatio': 3.89, 'shortPercentOfFloat': 0.0117999995, 'impliedSharesOutstanding': 2177959936, 'bookValue': 27.075, 'priceToBook': 2.3457062, 'lastFiscalYearEnd': 1703980800, 'nextFiscalYearEnd': 1735603200, 'mostRecentQuarter': 1727654400, 'earningsQuarterlyGrowth': 1.24, 'netIncomeToCommon': 6286000128, 'trailingEps': 2.94, 'forwardEps': 2.98, 'lastSplitFactor': '2:1', 'lastSplitDate': 1305849600, 'enterpriseToRevenue': 4.98, 'enterpriseToEbitda': 16.583, '52WeekChange': 0.3532921, 'SandP52WeekChange': 0.19995654, 'lastDividendValue': 0.915, 'lastDividendDate': 1731628800, 'exchange': 'TOR', 'quoteType': 'EQUITY', 'symbol': 'ENB.TO', 'underlyingSymbol': 'ENB.TO', 'shortName': 'ENBRIDGE INC', 'longName': 'Enbridge Inc.', 'firstTradeDateEpochUtc': 789921000, 'timeZoneFullName': 'America/Toronto', 'timeZoneShortName': 'EST', 'uuid': 'd61b0e57-d469-3354-8b2a-1405bad8a35d', 'messageBoardId': 'finmb_280420', 'gmtOffSetMilliseconds': -18000000, 'currentPrice': 63.51, 'targetHighPrice': 75.0, 'targetLowPrice': 52.0, 'targetMeanPrice': 62.75, 'targetMedianPrice': 64.0, 'recommendationMean': 2.3913, 'recommendationKey': 'buy', 'numberOfAnalystOpinions': 21, 'totalCash': 1896000000, 'totalCashPerShare': 0.871, 'ebitda': 14581999616, 'totalDebt': 95576997888, 'quickRatio': 0.397, 'currentRatio': 0.624, 'totalRevenue': 48554000384, 'debtToEquity': 138.964, 'revenuePerShare': 22.673, 'returnOnAssets': 0.03134, 'returnOnEquity': 0.0959, 'grossProfits': 23618000896, 'freeCashflow': 3816124928, 'operatingCashflow': 12750000128, 'earningsGrowth': 1.271, 'revenueGrowth': 0.512, 'grossMargins': 0.48643002, 'ebitdaMargins': 0.30033, 'operatingMargins': 0.152, 'financialCurrency': 'CAD', 'trailingPegRatio': None}\n"
          ]
        }
      ]
    },
    {
      "cell_type": "code",
      "source": [
        "import gradio as gr\n",
        "import yfinance as yf\n",
        "import json\n",
        "import openai\n",
        "import math\n",
        "import plotly.graph_objects as go\n",
        "\n",
        "# Initialize OpenAI API\n",
        "openai.api_key = API_KEY  # Replace with your API key\n",
        "\n",
        "# Function to fetch stock/ETF data from Yahoo Finance\n",
        "def fetch_stock_data(ticker_symbol):\n",
        "    stock = yf.Ticker(ticker_symbol)\n",
        "    stock_info = stock.info  # Fetch all available data\n",
        "\n",
        "    # Select relevant features for reasoning\n",
        "    relevant_data = {\n",
        "        \"symbol\": stock_info.get(\"symbol\", \"\"),\n",
        "        \"sector\": stock_info.get(\"sector\", \"N/A\"),\n",
        "        \"previous_close\": stock_info.get(\"previousClose\", \"N/A\"),\n",
        "        \"dividend_yield\": stock_info.get(\"dividendYield\") or stock_info.get(\"yield\", \"N/A\"),\n",
        "        \"fifty_day_avg\": stock_info.get(\"fiftyDayAverage\", \"N/A\"),\n",
        "    }\n",
        "\n",
        "    # Prepare values for dividend calculation\n",
        "    previous_close = stock_info.get(\"previousClose\", 0)\n",
        "    dividend_yield = stock_info.get(\"dividendYield\") or stock_info.get(\"yield\", 0)\n",
        "    fifty_day_avg = stock_info.get(\"fiftyDayAverage\", 0)\n",
        "\n",
        "    return relevant_data, previous_close, dividend_yield, fifty_day_avg\n",
        "\n",
        "# Function to call OpenAI API for stock analysis\n",
        "def analyze_stock_with_o1_mini(stock_data):\n",
        "    user_message = {\n",
        "        \"role\": \"user\",\n",
        "        \"content\": (\n",
        "            \"You are an AI stock advisor. Based on the given stock data, provide an analysis, firtsly mention the company name and take into account their industry\"\n",
        "            \"on whether it is a good investment. Consider valuation, volatility, dividend yield, \"\n",
        "            \"and market trends. Give reasoning for each buy, hold, or sell recommendation\"\n",
        "            \"Please provide the analysis using plain text, with no formatting (no bold, italics, or other styles).\"\n",
        "            f\"Here is the stock/ETF data:\\n{json.dumps(stock_data, indent=2)}\"\n",
        "        )\n",
        "    }\n",
        "\n",
        "    try:\n",
        "        response = client.chat.completions.create(\n",
        "            model=\"o1-mini\",\n",
        "            messages=[user_message]\n",
        "        )\n",
        "\n",
        "        return response.choices[0].message.content\n",
        "    except Exception as e:\n",
        "        return f\"Error in AI response: {str(e)}\"\n",
        "\n",
        "# Function to generate stock analysis\n",
        "def get_stock_analysis(ticker):\n",
        "    stock_data, previous_close, dividend_yield, fifty_day_avg = fetch_stock_data(ticker)\n",
        "\n",
        "    dividend_yield = dividend_yield * 100\n",
        "    stock_data['dividend_yield'] = dividend_yield\n",
        "\n",
        "    # Calculate annual dividend payout based on $1000 investment\n",
        "    investment_amount = 1000\n",
        "    average_price = fifty_day_avg if fifty_day_avg else previous_close\n",
        "    shares_owned = math.floor(investment_amount / average_price)\n",
        "    dividend_per_share = (dividend_yield / 100) * average_price\n",
        "    annual_dividend = shares_owned * dividend_per_share\n",
        "\n",
        "    formatted_data = {\n",
        "        \"Ticker\": stock_data['symbol'],\n",
        "        \"Sector\": stock_data['sector'],\n",
        "        \"Previous Close\": f\"${stock_data['previous_close']:.2f}\",\n",
        "        \"Dividend Yield\": f\"{stock_data['dividend_yield']:.2f}%\",\n",
        "        \"Annual Dividend Payout (for $1000 investment)\": f\"${annual_dividend:.2f}\"\n",
        "    }\n",
        "\n",
        "    ai_analysis = analyze_stock_with_o1_mini(stock_data)\n",
        "\n",
        "    return formatted_data, ai_analysis\n",
        "\n",
        "# Function to plot dividend payouts with stock close price\n",
        "def plot_dividends(ticker):\n",
        "    try:\n",
        "        ticker_obj = yf.Ticker(ticker)\n",
        "        dividends = ticker_obj.dividends\n",
        "        if dividends.empty:\n",
        "            return \"No dividend data available for this stock.\"\n",
        "\n",
        "        stock_history = ticker_obj.history(start=dividends.index.min(), end=dividends.index.max())\n",
        "        close_prices = stock_history[\"Close\"].reindex(dividends.index, method=\"ffill\")\n",
        "\n",
        "        fig = go.Figure()\n",
        "\n",
        "        # Add dividend payouts\n",
        "        fig.add_trace(go.Scatter(\n",
        "            x=dividends.index,\n",
        "            y=dividends,\n",
        "            mode='lines+markers',\n",
        "            name='Dividends ($)',\n",
        "            marker=dict(size=8, color='red', symbol='circle'),\n",
        "            hovertemplate=\"Date: %{x}<br>Dividend: $%{y:.2f}<br>Close Price: $%{customdata:.2f}\",\n",
        "            customdata=close_prices\n",
        "        ))\n",
        "\n",
        "        # Add stock close prices\n",
        "        fig.add_trace(go.Scatter(\n",
        "            x=close_prices.index,\n",
        "            y=close_prices,\n",
        "            mode='lines+markers',\n",
        "            name='Close Price ($)',\n",
        "            marker=dict(size=8, color='blue', symbol='square'),\n",
        "            hovertemplate=\"Date: %{x}<br>Close Price: $%{y:.2f}\",\n",
        "        ))\n",
        "\n",
        "        fig.update_layout(\n",
        "            title=f'{ticker} Dividend Payouts & Close Prices Over Time',\n",
        "            xaxis_title='Date',\n",
        "            yaxis_title='Amount ($)',\n",
        "            template='plotly_dark',\n",
        "            width=1200,\n",
        "            height=700,\n",
        "            yaxis=dict(dtick=5)\n",
        "        )\n",
        "\n",
        "        return fig\n",
        "    except Exception as e:\n",
        "        return f\"Error: {e}\"\n",
        "\n",
        "# Gradio Interface with Tabs\n",
        "gr_interface = gr.Blocks()\n",
        "\n",
        "with gr_interface:\n",
        "    gr.Markdown(\"<h1 style='text-align: center;'>Welcome to BHSL Strategies: Buy High 📈, Sell Low 📉</h1>\")\n",
        "    gr.Markdown(\"<h3 style='text-align: center;'>Who doesn't love market fluctuations!</h3>\")\n",
        "    gr.Markdown(\"Enter a stock/ETF ticker to get analysis, recommendations, and dividend insights.\")\n",
        "\n",
        "    with gr.Row():\n",
        "        ticker_input = gr.Textbox(label=\"Enter Ticker Symbol\")\n",
        "        submit_btn = gr.Button(\"Generate Analysis & Graph\")\n",
        "\n",
        "    with gr.Tab(\"Analysis\"):\n",
        "        with gr.Row():\n",
        "            stock_output = [gr.JSON(label=\"Stock Data\"), gr.Textbox(label=\"Quant Recommendation\")]\n",
        "\n",
        "    with gr.Tab(\"Dividend Plot\"):\n",
        "        plot_output = gr.Plot(label=\"Dividend Payouts & Close Prices\")\n",
        "\n",
        "    submit_btn.click(fn=get_stock_analysis, inputs=ticker_input, outputs=stock_output)\n",
        "    submit_btn.click(fn=plot_dividends, inputs=ticker_input, outputs=plot_output)\n",
        "\n",
        "# Launch the Gradio interface\n",
        "gr_interface.launch()"
      ],
      "metadata": {
        "colab": {
          "base_uri": "https://localhost:8080/",
          "height": 646
        },
        "collapsed": true,
        "id": "8NJULZVG85JW",
        "outputId": "52cc3200-ddbf-4120-c195-6cf428dbcb47"
      },
      "execution_count": 8,
      "outputs": [
        {
          "output_type": "stream",
          "name": "stdout",
          "text": [
            "Running Gradio in a Colab notebook requires sharing enabled. Automatically setting `share=True` (you can turn this off by setting `share=False` in `launch()` explicitly).\n",
            "\n",
            "Colab notebook detected. To show errors in colab notebook, set debug=True in launch()\n",
            "* Running on public URL: https://ebeaa86376a913bd5e.gradio.live\n",
            "\n",
            "This share link expires in 72 hours. For free permanent hosting and GPU upgrades, run `gradio deploy` from the terminal in the working directory to deploy to Hugging Face Spaces (https://huggingface.co/spaces)\n"
          ]
        },
        {
          "output_type": "display_data",
          "data": {
            "text/plain": [
              "<IPython.core.display.HTML object>"
            ],
            "text/html": [
              "<div><iframe src=\"https://ebeaa86376a913bd5e.gradio.live\" width=\"100%\" height=\"500\" allow=\"autoplay; camera; microphone; clipboard-read; clipboard-write;\" frameborder=\"0\" allowfullscreen></iframe></div>"
            ]
          },
          "metadata": {}
        },
        {
          "output_type": "execute_result",
          "data": {
            "text/plain": []
          },
          "metadata": {},
          "execution_count": 8
        }
      ]
    }
  ]
}